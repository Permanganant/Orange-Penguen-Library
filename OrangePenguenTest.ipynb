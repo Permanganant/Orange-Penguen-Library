{
  "nbformat": 4,
  "nbformat_minor": 0,
  "metadata": {
    "colab": {
      "name": "OrangePenguenTest.ipynb",
      "provenance": [],
      "authorship_tag": "ABX9TyOCa0SxK8m9QbmsEv7Rbw2b",
      "include_colab_link": true
    },
    "kernelspec": {
      "name": "python3",
      "display_name": "Python 3"
    },
    "language_info": {
      "name": "python"
    }
  },
  "cells": [
    {
      "cell_type": "markdown",
      "metadata": {
        "id": "view-in-github",
        "colab_type": "text"
      },
      "source": [
        "<a href=\"https://colab.research.google.com/github/Permanganant/Orange-Penguen-Library/blob/master/OrangePenguenTest.ipynb\" target=\"_parent\"><img src=\"https://colab.research.google.com/assets/colab-badge.svg\" alt=\"Open In Colab\"/></a>"
      ]
    },
    {
      "cell_type": "code",
      "metadata": {
        "colab": {
          "base_uri": "https://localhost:8080/"
        },
        "id": "umhSxjZlAG_r",
        "outputId": "5c0d0b9a-8676-4c80-c3d3-6b11fc189868"
      },
      "source": [
        "!pip install orngpenguen==0.0.1"
      ],
      "execution_count": 1,
      "outputs": [
        {
          "output_type": "stream",
          "name": "stdout",
          "text": [
            "Collecting orngpenguen==0.0.1\n",
            "  Downloading orngpenguen-0.0.1.tar.gz (3.8 kB)\n",
            "Collecting bitarray==2.3.4\n",
            "  Downloading bitarray-2.3.4.tar.gz (88 kB)\n",
            "\u001b[K     |████████████████████████████████| 88 kB 6.6 MB/s \n",
            "\u001b[?25hBuilding wheels for collected packages: orngpenguen, bitarray\n",
            "  Building wheel for orngpenguen (setup.py) ... \u001b[?25l\u001b[?25hdone\n",
            "  Created wheel for orngpenguen: filename=orngpenguen-0.0.1-py3-none-any.whl size=4011 sha256=49b9fb8fef5d82ed8dcbfbabec6d6651a465ab70e065584fa2f8283b34466ce4\n",
            "  Stored in directory: /root/.cache/pip/wheels/ac/2c/00/7161d40bb946f907d88efde242e72c69bf20d4d96ae93f468f\n",
            "  Building wheel for bitarray (setup.py) ... \u001b[?25l\u001b[?25hdone\n",
            "  Created wheel for bitarray: filename=bitarray-2.3.4-cp37-cp37m-linux_x86_64.whl size=171940 sha256=54ada550e40304750465b4deb79e25fe8e2a2c8b2d67eb8c9c6c8990afb88af8\n",
            "  Stored in directory: /root/.cache/pip/wheels/84/cc/5b/0e861bdb5294d22d2d4f595df936f964a95258387e11494d41\n",
            "Successfully built orngpenguen bitarray\n",
            "Installing collected packages: bitarray, orngpenguen\n",
            "Successfully installed bitarray-2.3.4 orngpenguen-0.0.1\n"
          ]
        }
      ]
    },
    {
      "cell_type": "code",
      "metadata": {
        "id": "hxNPJ4tjAOXu"
      },
      "source": [
        "import orngpenguen"
      ],
      "execution_count": 2,
      "outputs": []
    },
    {
      "cell_type": "code",
      "metadata": {
        "colab": {
          "base_uri": "https://localhost:8080/"
        },
        "id": "d0XspANUAT70",
        "outputId": "6ea57bfb-1ae5-4152-b1f9-1833679b1d39"
      },
      "source": [
        "passwd, key = orngpenguen.Penguen.input_hash()  "
      ],
      "execution_count": 15,
      "outputs": [
        {
          "name": "stdout",
          "output_type": "stream",
          "text": [
            "Enter a key for your own hash generator:  123\n",
            "Enter your key again:  123\n",
            "Enter your password:  penguen\n",
            "Enter your password again:  penguen\n"
          ]
        }
      ]
    },
    {
      "cell_type": "code",
      "metadata": {
        "colab": {
          "base_uri": "https://localhost:8080/"
        },
        "id": "qYzcSsREAfAt",
        "outputId": "c35b1c56-d79e-4202-beb0-0c1836e0f7f6"
      },
      "source": [
        "passwd_len = 35\n",
        "hash = orngpenguen.Penguen.hash_generator(passwd,key,passwd_len)\n",
        "print(\"Hash password: \", hash)"
      ],
      "execution_count": 17,
      "outputs": [
        {
          "output_type": "stream",
          "name": "stdout",
          "text": [
            "Hash password:  \\f\\4SJ7.BfFfSJ7.penguen.7gjsVFfHFbH\n"
          ]
        }
      ]
    }
  ]
}